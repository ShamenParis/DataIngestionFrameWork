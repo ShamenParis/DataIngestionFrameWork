{
 "cells": [
  {
   "cell_type": "code",
   "execution_count": 0,
   "metadata": {
    "application/vnd.databricks.v1+cell": {
     "cellMetadata": {
      "byteLimit": 2048000,
      "rowLimit": 10000
     },
     "inputWidgets": {},
     "nuid": "a0f608bd-a264-4391-9430-22330584acef",
     "showTitle": true,
     "title": "Install the dependant libraries"
    }
   },
   "outputs": [],
   "source": [
    "import os\n",
    "notebook_path = dbutils.notebook.entry_point.getDbutils().notebook().getContext().notebookPath().get()\n",
    "repo_root = os.path.dirname(os.path.dirname(os.path.dirname(notebook_path)))\n",
    "os.chdir(f\"/Workspace/{repo_root.replace('/notebooks','')}\")\n",
    "%pwd\n",
    "\n",
    "from config.Test_Configurations.testing_package.install_libraries import install_requirements\n",
    "\n",
    "install_requirements(requirements_file='./config/Test_Configurations/testing_package/test_requirements.txt')"
   ]
  },
  {
   "cell_type": "code",
   "execution_count": 0,
   "metadata": {
    "application/vnd.databricks.v1+cell": {
     "cellMetadata": {
      "byteLimit": 2048000,
      "rowLimit": 10000
     },
     "inputWidgets": {},
     "nuid": "d11851dd-e61f-4255-a5c6-6dea21e1dbc4",
     "showTitle": true,
     "title": "Get configuration results"
    }
   },
   "outputs": [],
   "source": [
    "import os\n",
    "notebook_path = dbutils.notebook.entry_point.getDbutils().notebook().getContext().notebookPath().get()\n",
    "repo_root = os.path.dirname(os.path.dirname(os.path.dirname(notebook_path)))\n",
    "os.chdir(f\"/Workspace/{repo_root.replace('/notebooks','')}\")\n",
    "%pwd\n",
    "\n",
    "from config.Test_Configurations.testing_package.config_checking import check_results\n",
    "\n",
    "env = dbutils.widgets.get('env_name')\n",
    "config_files_location = f'./config/{env}/main_config'\n",
    "check_results(config_files_location)"
   ]
  }
 ],
 "metadata": {
  "application/vnd.databricks.v1+notebook": {
   "dashboards": [
    {
     "elements": [
      {
       "dashboardResultIndex": 0,
       "elementNUID": "d11851dd-e61f-4255-a5c6-6dea21e1dbc4",
       "elementType": "command",
       "guid": "63b98c53-beb0-41d3-a1c5-883e7a832c5c",
       "options": {
        "autoScaleImg": false,
        "scale": 0,
        "showRunButton": true,
        "showTitle": true,
        "title": "Main Configurations",
        "titleAlign": "center"
       },
       "position": {
        "height": 5,
        "width": 24,
        "x": 0,
        "y": 0,
        "z": null
       },
       "resultIndex": null
      },
      {
       "dashboardResultIndex": 2,
       "elementNUID": "d11851dd-e61f-4255-a5c6-6dea21e1dbc4",
       "elementType": "command",
       "guid": "b4a7e7d0-7d6e-4c83-a513-3be9052ccc0a",
       "options": {
        "autoScaleImg": false,
        "scale": 0,
        "showRunButton": true,
        "showTitle": true,
        "title": "Job Configurations",
        "titleAlign": "center"
       },
       "position": {
        "height": 5,
        "width": 24,
        "x": 0,
        "y": 11,
        "z": null
       },
       "resultIndex": null
      },
      {
       "dashboardResultIndex": 1,
       "elementNUID": "d11851dd-e61f-4255-a5c6-6dea21e1dbc4",
       "elementType": "command",
       "guid": "f59833e9-91c0-4036-b910-bbdb159e91d1",
       "options": {
        "autoScaleImg": false,
        "scale": 0,
        "showRunButton": true,
        "showTitle": true,
        "title": "Column Configurations",
        "titleAlign": "center"
       },
       "position": {
        "height": 6,
        "width": 24,
        "x": 0,
        "y": 5,
        "z": null
       },
       "resultIndex": null
      }
     ],
     "globalVars": {},
     "guid": "",
     "layoutOption": {
      "grid": true,
      "stack": true
     },
     "nuid": "f96c2a41-c878-4ee2-9b26-04f4be467621",
     "origId": 1730735031470028,
     "title": "Show Configuration Results",
     "version": "DashboardViewV1",
     "width": 1024
    }
   ],
   "environmentMetadata": null,
   "language": "python",
   "notebookMetadata": {
    "mostRecentlyExecutedCommandWithImplicitDF": {
     "commandId": 2071748975815156,
     "dataframes": [
      "_sqldf"
     ]
    },
    "pythonIndentUnit": 4,
    "widgetLayout": [
     {
      "breakBefore": false,
      "name": "env_name",
      "width": 211
     }
    ]
   },
   "notebookName": "Check Configurations",
   "widgets": {
    "env_name": {
     "currentValue": "Production",
     "nuid": "7580bfad-5cc9-47c8-b895-106af5e0ac22",
     "typedWidgetInfo": null,
     "widgetInfo": {
      "widgetType": "dropdown",
      "defaultValue": "Development",
      "label": "Choose The Environment",
      "name": "env_name",
      "options": {
       "widgetType": "dropdown",
       "autoCreated": false,
       "choices": [
        "Development",
        "Pre-production",
        "Production"
       ]
      }
     }
    }
   }
  }
 },
 "nbformat": 4,
 "nbformat_minor": 0
}
